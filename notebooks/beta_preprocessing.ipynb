{
 "cells": [
  {
   "attachments": {},
   "cell_type": "markdown",
   "metadata": {},
   "source": [
    "# Preprocessing Script"
   ]
  },
  {
   "cell_type": "code",
   "execution_count": 1,
   "metadata": {},
   "outputs": [],
   "source": [
    "import os\n",
    "import sys\n",
    "import importlib\n",
    "from importlib import reload \n",
    "from dataclasses import dataclass, field, fields\n",
    "from itertools import compress\n",
    "import pandas as pd\n",
    "import numpy as np\n",
    "import matplotlib.pyplot as plt\n",
    "\n",
    "import scipy\n",
    "import scipy.io as sio\n",
    "from scipy import signal\n",
    "from scipy.signal import spectrogram, hann, butter, filtfilt, freqz\n",
    "from scipy import stats\n",
    "\n",
    "import pickle\n",
    "import json\n",
    "import csv\n",
    "\n",
    "#mne\n",
    "import mne_bids\n",
    "import mne\n",
    "from mne.time_frequency import tfr_morlet \n",
    "from mne.stats import permutation_cluster_test\n",
    "from mne.preprocessing import ICA, create_ecg_epochs\n"
   ]
  },
  {
   "attachments": {},
   "cell_type": "markdown",
   "metadata": {},
   "source": [
    "Import PyPerceive and the local functions of this repository"
   ]
  },
  {
   "cell_type": "code",
   "execution_count": 43,
   "metadata": {},
   "outputs": [
    {
     "data": {
      "text/plain": [
       "<module 'src.beta.preprocessing.tfr' from '/Users/jenniferbehnke/code/Beta_profile_project/Beta_profile/src/beta/preprocessing/tfr.py'>"
      ]
     },
     "execution_count": 43,
     "metadata": {},
     "output_type": "execute_result"
    }
   ],
   "source": [
    "jennifer_user_path = os.getcwd()\n",
    "while jennifer_user_path[-14:] != 'jenniferbehnke':\n",
    "    jennifer_user_path = os.path.dirname(jennifer_user_path)\n",
    "\n",
    "# directory to this Repository\n",
    "project_path = os.path.join(jennifer_user_path, 'code', 'Beta_profile_project', 'Beta_profile')\n",
    "sys.path.append(project_path)\n",
    "\n",
    "os.chdir(project_path)\n",
    "\n",
    "import src.beta.utils.find_folders as find_folders\n",
    "importlib.reload(find_folders)\n",
    "\n",
    "# import PyPerceive\n",
    "project_path = find_folders.chdir_repository(\"Py_Perceive\")\n",
    "\n",
    "from PerceiveImport.classes import (\n",
    "    main_class, modality_class, metadata_class,\n",
    "    session_class, condition_class, task_class,\n",
    "    contact_class, run_class\n",
    ")\n",
    "\n",
    "import PerceiveImport.methods.load_rawfile as load_rawfile\n",
    "import PerceiveImport.methods.find_folders as PyPerceive_find_folders\n",
    "import PerceiveImport.methods.metadata_helpers as metaHelpers\n",
    "\n",
    "\n",
    "\n",
    "# import all functions from the local repository\n",
    "project_path = find_folders.chdir_repository(\"Beta_profile\")\n",
    "\n",
    "# utils\n",
    "import src.beta.utils.find_folders as find_folders\n",
    "import src.beta.utils.io as io\n",
    "\n",
    "# tfr\n",
    "import src.beta.preprocessing.tfr as tfr\n",
    "\n",
    "\n",
    "importlib.reload(find_folders)\n",
    "importlib.reload(io)\n",
    "importlib.reload(tfr)"
   ]
  },
  {
   "attachments": {},
   "cell_type": "markdown",
   "metadata": {},
   "source": [
    "Load MNE Objects from PyPerceive"
   ]
  },
  {
   "cell_type": "code",
   "execution_count": 16,
   "metadata": {},
   "outputs": [
    {
     "name": "stdout",
     "output_type": "stream",
     "text": [
      "\n",
      "\t### WARNING: NaNs in Metadata Table sub-024 ###\n",
      "NaNs in: sub024_ses-2021061806255999_run-BrainSense20210618063700.mat\n",
      "NaNs in: sub024_ses-2021061806255999_run-BrainSense20210618064000.mat\n",
      "NaNs in: sub024_ses-2021061806255999_run-BrainSense20210618064200.mat\n",
      "NaNs in: sub024_ses-2021061808253999_run-BrainSense20210618084000.mat\n",
      "NaNs in: sub024_ses-2021061808253999_run-BrainSense20210618084300.mat\n",
      "NaNs in: sub024_ses-2021061808253999_run-BrainSense20210618084700.mat\n",
      "NaNs in: sub024_ses-2021092106385396_run-BrainSense20210921070500.mat\n",
      "NaNs in: sub024_ses-2021092106385396_run-BrainSense20210921072300.mat\n",
      "NaNs in: sub024_ses-2021092107452096_run-BrainSense20210921074800.mat\n",
      "NaNs in: sub024_ses-2021092107452096_run-BrainSense20210921080600.mat\n",
      "NaNs in: sub024_ses-2021092107452096_run-BrainSense20210921082400.mat\n",
      "NaNs in: sub-20210615PStn_ses-2022061010445782_run-BrainSense20220610105800.mat\n",
      "NaNs in: sub-20210615PStn_ses-2022061010445782_run-BrainSense20220610111500.mat\n",
      "NaNs in: sub-20210615PStn_ses-2022061010445782_run-BrainSense20220610111700.mat\n",
      "NaNs in: sub-20210615PStn_ses-2022061010445782_run-BrainSense20220610112200.mat\n",
      "NaNs in: sub-20210615PStn_ses-2022061010445782_run-BrainSense20220610112500.mat\n",
      "NaNs in: sub-20210615PStn_ses-2022061010445782_run-BrainSense20220610112700.mat\n",
      "NaNs in: sub-20210615PStn_ses-2022061010445782_run-BrainSense20220610113100.mat\n",
      "NaNs in: sub-20210615PStn_ses-2022061010445782_run-BrainSense20220610114400.mat\n",
      "NaNs in: sub-20210615PStn_ses-2022061010445782_run-BrainSense20220610115200.mat\n",
      "NaNs in: sub-20210615PStn_ses-2022061010445782_run-BrainSense20220610115500.mat\n",
      "NaNs in: sub-20210615PStn_ses-2022061010445782_run-BrainSense20220610115900.mat\n",
      "NaNs in: sub-20210615PStn_ses-2022061010445782_run-BrainSense20220610120100.mat\n",
      "NaNs in: sub-20210615PStn_ses-2022061010445782_run-BrainSense20220610120200.mat\n",
      "NaNs in: sub-20210615PStn_ses-2022061010445782_run-BrainSense20220610120500.mat\n",
      "NaNs in: sub-20210615PStn_ses-2022072210000082_run-BrainSense20220609070200.mat\n",
      "NaNs in: sub-20210615PStn_ses-2022072210000082_run-BrainSense20220609071800.mat\n",
      "NaNs in: sub-20210615PStn_ses-2022072210000082_run-BrainSense20220609072200.mat\n",
      "NaNs in: sub-20210615PStn_ses-2022072210000082_run-BrainSense20220609072900.mat\n",
      "NaNs in: sub-20210615PStn_ses-2022072210000082_run-BrainSense20220609073100.mat\n",
      "NaNs in: sub-20210615PStn_ses-2022072210000082_run-BrainSense20220609073500.mat\n",
      "NaNs in: sub-20210615PStn_ses-2023082210012158_run-LMTD20230822101300_6.mat\n",
      "Creating RawArray with float64 data, n_channels=6, n_times=5288\n",
      "    Range : 0 ... 5287 =      0.000 ...    21.148 secs\n",
      "Ready.\n",
      "Creating RawArray with float64 data, n_channels=6, n_times=5288\n",
      "    Range : 0 ... 5287 =      0.000 ...    21.148 secs\n",
      "Ready.\n",
      "Creating RawArray with float64 data, n_channels=3, n_times=5188\n",
      "    Range : 0 ... 5187 =      0.000 ...    20.748 secs\n",
      "Ready.\n"
     ]
    },
    {
     "data": {
      "text/plain": [
       "PerceiveData(sub='024', incl_modalities=['survey'], incl_session=['fu12m'], incl_condition=['m0s0'], incl_task=['rest'], incl_contact=['RingR', 'SegmIntraR', 'SegmInterR'], import_json=False, warn_for_metaNaNs=True, use_chronic_json_file=True, allow_NaNs_in_metadata=False)"
      ]
     },
     "execution_count": 16,
     "metadata": {},
     "output_type": "execute_result"
    }
   ],
   "source": [
    "loaded_data = io.load_py_perceive_object(\n",
    "    sub=\"024\",\n",
    "    session=\"fu12m\",\n",
    "    condition=\"m0s0\",\n",
    "    hemisphere=\"Right\"\n",
    ")\n",
    "loaded_data"
   ]
  },
  {
   "cell_type": "code",
   "execution_count": 17,
   "metadata": {},
   "outputs": [
    {
     "data": {
      "text/plain": [
       "array([[ -7.41379038, -10.89602526,  -9.2110729 , ...,  -1.01097142,\n",
       "         -3.03291425,  -2.92058409],\n",
       "       [ -2.04939002,  -5.23733005,  -2.61866502, ...,   1.70782502,\n",
       "          2.16324502,   3.07408503],\n",
       "       [ -3.59456503,  -5.27951739,  -5.61650786, ...,   2.69592377,\n",
       "          1.79728252,  -1.01097142],\n",
       "       [  1.36010569,   2.15350067,   1.70013211, ...,   5.10039633,\n",
       "          4.87371205,   5.55376489],\n",
       "       [ -4.55420004,  -4.66805504,  -7.51443007, ...,  -3.41565003,\n",
       "         -5.57889505,  -7.40057507],\n",
       "       [ -1.34796189,  -4.60553645,  -6.40281897, ...,  -2.02194283,\n",
       "         -2.92058409,  -3.03291425]])"
      ]
     },
     "execution_count": 17,
     "metadata": {},
     "output_type": "execute_result"
    }
   ],
   "source": [
    "loaded_data.survey.fu12m.m0s0.rest.RingR.run1.data.get_data()"
   ]
  },
  {
   "cell_type": "code",
   "execution_count": 33,
   "metadata": {},
   "outputs": [
    {
     "name": "stdout",
     "output_type": "stream",
     "text": [
      "\n",
      "\t### WARNING: NaNs in Metadata Table sub-024 ###\n",
      "NaNs in: sub024_ses-2021061806255999_run-BrainSense20210618063700.mat\n",
      "NaNs in: sub024_ses-2021061806255999_run-BrainSense20210618064000.mat\n",
      "NaNs in: sub024_ses-2021061806255999_run-BrainSense20210618064200.mat\n",
      "NaNs in: sub024_ses-2021061808253999_run-BrainSense20210618084000.mat\n",
      "NaNs in: sub024_ses-2021061808253999_run-BrainSense20210618084300.mat\n",
      "NaNs in: sub024_ses-2021061808253999_run-BrainSense20210618084700.mat\n",
      "NaNs in: sub024_ses-2021092106385396_run-BrainSense20210921070500.mat\n",
      "NaNs in: sub024_ses-2021092106385396_run-BrainSense20210921072300.mat\n",
      "NaNs in: sub024_ses-2021092107452096_run-BrainSense20210921074800.mat\n",
      "NaNs in: sub024_ses-2021092107452096_run-BrainSense20210921080600.mat\n",
      "NaNs in: sub024_ses-2021092107452096_run-BrainSense20210921082400.mat\n",
      "NaNs in: sub-20210615PStn_ses-2022061010445782_run-BrainSense20220610105800.mat\n",
      "NaNs in: sub-20210615PStn_ses-2022061010445782_run-BrainSense20220610111500.mat\n",
      "NaNs in: sub-20210615PStn_ses-2022061010445782_run-BrainSense20220610111700.mat\n",
      "NaNs in: sub-20210615PStn_ses-2022061010445782_run-BrainSense20220610112200.mat\n",
      "NaNs in: sub-20210615PStn_ses-2022061010445782_run-BrainSense20220610112500.mat\n",
      "NaNs in: sub-20210615PStn_ses-2022061010445782_run-BrainSense20220610112700.mat\n",
      "NaNs in: sub-20210615PStn_ses-2022061010445782_run-BrainSense20220610113100.mat\n",
      "NaNs in: sub-20210615PStn_ses-2022061010445782_run-BrainSense20220610114400.mat\n",
      "NaNs in: sub-20210615PStn_ses-2022061010445782_run-BrainSense20220610115200.mat\n",
      "NaNs in: sub-20210615PStn_ses-2022061010445782_run-BrainSense20220610115500.mat\n",
      "NaNs in: sub-20210615PStn_ses-2022061010445782_run-BrainSense20220610115900.mat\n",
      "NaNs in: sub-20210615PStn_ses-2022061010445782_run-BrainSense20220610120100.mat\n",
      "NaNs in: sub-20210615PStn_ses-2022061010445782_run-BrainSense20220610120200.mat\n",
      "NaNs in: sub-20210615PStn_ses-2022061010445782_run-BrainSense20220610120500.mat\n",
      "NaNs in: sub-20210615PStn_ses-2022072210000082_run-BrainSense20220609070200.mat\n",
      "NaNs in: sub-20210615PStn_ses-2022072210000082_run-BrainSense20220609071800.mat\n",
      "NaNs in: sub-20210615PStn_ses-2022072210000082_run-BrainSense20220609072200.mat\n",
      "NaNs in: sub-20210615PStn_ses-2022072210000082_run-BrainSense20220609072900.mat\n",
      "NaNs in: sub-20210615PStn_ses-2022072210000082_run-BrainSense20220609073100.mat\n",
      "NaNs in: sub-20210615PStn_ses-2022072210000082_run-BrainSense20220609073500.mat\n",
      "NaNs in: sub-20210615PStn_ses-2023082210012158_run-LMTD20230822101300_6.mat\n",
      "Creating RawArray with float64 data, n_channels=6, n_times=5288\n",
      "    Range : 0 ... 5287 =      0.000 ...    21.148 secs\n",
      "Ready.\n",
      "Creating RawArray with float64 data, n_channels=6, n_times=5288\n",
      "    Range : 0 ... 5287 =      0.000 ...    21.148 secs\n",
      "Ready.\n",
      "Creating RawArray with float64 data, n_channels=3, n_times=5188\n",
      "    Range : 0 ... 5187 =      0.000 ...    20.748 secs\n",
      "Ready.\n"
     ]
    },
    {
     "data": {
      "text/plain": [
       "{'RingR': <RawArray | 6 x 5288 (21.1 s), ~258 kB, data loaded>,\n",
       " 'SegmIntraR': <RawArray | 6 x 5288 (21.1 s), ~258 kB, data loaded>,\n",
       " 'SegmInterR': <RawArray | 3 x 5188 (20.7 s), ~129 kB, data loaded>}"
      ]
     },
     "execution_count": 33,
     "metadata": {},
     "output_type": "execute_result"
    }
   ],
   "source": [
    "data = io.extract_data_from_py_perceive(\n",
    "    sub=\"024\",\n",
    "    session=\"fu12m\",\n",
    "    condition=\"m0s0\",\n",
    "    hemisphere=\"Right\"\n",
    ")\n",
    "data"
   ]
  },
  {
   "cell_type": "code",
   "execution_count": 38,
   "metadata": {},
   "outputs": [],
   "source": [
    "ring_data = data[\"SegmIntraR\"]"
   ]
  },
  {
   "cell_type": "code",
   "execution_count": 44,
   "metadata": {},
   "outputs": [
    {
     "name": "stdout",
     "output_type": "stream",
     "text": [
      "\n",
      "\t### WARNING: NaNs in Metadata Table sub-024 ###\n",
      "NaNs in: sub024_ses-2021061806255999_run-BrainSense20210618063700.mat\n",
      "NaNs in: sub024_ses-2021061806255999_run-BrainSense20210618064000.mat\n",
      "NaNs in: sub024_ses-2021061806255999_run-BrainSense20210618064200.mat\n",
      "NaNs in: sub024_ses-2021061808253999_run-BrainSense20210618084000.mat\n",
      "NaNs in: sub024_ses-2021061808253999_run-BrainSense20210618084300.mat\n",
      "NaNs in: sub024_ses-2021061808253999_run-BrainSense20210618084700.mat\n",
      "NaNs in: sub024_ses-2021092106385396_run-BrainSense20210921070500.mat\n",
      "NaNs in: sub024_ses-2021092106385396_run-BrainSense20210921072300.mat\n",
      "NaNs in: sub024_ses-2021092107452096_run-BrainSense20210921074800.mat\n",
      "NaNs in: sub024_ses-2021092107452096_run-BrainSense20210921080600.mat\n",
      "NaNs in: sub024_ses-2021092107452096_run-BrainSense20210921082400.mat\n",
      "NaNs in: sub-20210615PStn_ses-2022061010445782_run-BrainSense20220610105800.mat\n",
      "NaNs in: sub-20210615PStn_ses-2022061010445782_run-BrainSense20220610111500.mat\n",
      "NaNs in: sub-20210615PStn_ses-2022061010445782_run-BrainSense20220610111700.mat\n",
      "NaNs in: sub-20210615PStn_ses-2022061010445782_run-BrainSense20220610112200.mat\n",
      "NaNs in: sub-20210615PStn_ses-2022061010445782_run-BrainSense20220610112500.mat\n",
      "NaNs in: sub-20210615PStn_ses-2022061010445782_run-BrainSense20220610112700.mat\n",
      "NaNs in: sub-20210615PStn_ses-2022061010445782_run-BrainSense20220610113100.mat\n",
      "NaNs in: sub-20210615PStn_ses-2022061010445782_run-BrainSense20220610114400.mat\n",
      "NaNs in: sub-20210615PStn_ses-2022061010445782_run-BrainSense20220610115200.mat\n",
      "NaNs in: sub-20210615PStn_ses-2022061010445782_run-BrainSense20220610115500.mat\n",
      "NaNs in: sub-20210615PStn_ses-2022061010445782_run-BrainSense20220610115900.mat\n",
      "NaNs in: sub-20210615PStn_ses-2022061010445782_run-BrainSense20220610120100.mat\n",
      "NaNs in: sub-20210615PStn_ses-2022061010445782_run-BrainSense20220610120200.mat\n",
      "NaNs in: sub-20210615PStn_ses-2022061010445782_run-BrainSense20220610120500.mat\n",
      "NaNs in: sub-20210615PStn_ses-2022072210000082_run-BrainSense20220609070200.mat\n",
      "NaNs in: sub-20210615PStn_ses-2022072210000082_run-BrainSense20220609071800.mat\n",
      "NaNs in: sub-20210615PStn_ses-2022072210000082_run-BrainSense20220609072200.mat\n",
      "NaNs in: sub-20210615PStn_ses-2022072210000082_run-BrainSense20220609072900.mat\n",
      "NaNs in: sub-20210615PStn_ses-2022072210000082_run-BrainSense20220609073100.mat\n",
      "NaNs in: sub-20210615PStn_ses-2022072210000082_run-BrainSense20220609073500.mat\n",
      "NaNs in: sub-20210615PStn_ses-2023082210012158_run-LMTD20230822101300_6.mat\n",
      "Creating RawArray with float64 data, n_channels=6, n_times=5288\n",
      "    Range : 0 ... 5287 =      0.000 ...    21.148 secs\n",
      "Ready.\n",
      "Creating RawArray with float64 data, n_channels=6, n_times=5288\n",
      "    Range : 0 ... 5287 =      0.000 ...    21.148 secs\n",
      "Ready.\n",
      "Creating RawArray with float64 data, n_channels=3, n_times=5188\n",
      "    Range : 0 ... 5187 =      0.000 ...    20.748 secs\n",
      "Ready.\n"
     ]
    }
   ],
   "source": [
    "structured_signals = tfr.pick_channels_of_interest(\n",
    "    sub=\"024\",\n",
    "    session=\"fu12m\",\n",
    "    condition=\"m0s0\",\n",
    "    hemisphere=\"Right\"\n",
    ")"
   ]
  },
  {
   "cell_type": "code",
   "execution_count": 51,
   "metadata": {},
   "outputs": [
    {
     "data": {
      "text/html": [
       "<div>\n",
       "<style scoped>\n",
       "    .dataframe tbody tr th:only-of-type {\n",
       "        vertical-align: middle;\n",
       "    }\n",
       "\n",
       "    .dataframe tbody tr th {\n",
       "        vertical-align: top;\n",
       "    }\n",
       "\n",
       "    .dataframe thead th {\n",
       "        text-align: right;\n",
       "    }\n",
       "</style>\n",
       "<table border=\"1\" class=\"dataframe\">\n",
       "  <thead>\n",
       "    <tr style=\"text-align: right;\">\n",
       "      <th></th>\n",
       "      <th>channel</th>\n",
       "      <th>signal</th>\n",
       "      <th>lfp_group</th>\n",
       "    </tr>\n",
       "  </thead>\n",
       "  <tbody>\n",
       "    <tr>\n",
       "      <th>0</th>\n",
       "      <td>LFP_R_12_STN_MT</td>\n",
       "      <td>[1.3601056882, 2.153500673, 1.7001321103, 2.72...</td>\n",
       "      <td>RingR</td>\n",
       "    </tr>\n",
       "    <tr>\n",
       "      <th>1</th>\n",
       "      <td>LFP_R_01_STN_MT</td>\n",
       "      <td>[-4.554200042, -4.668055043, -7.5144300693, -7...</td>\n",
       "      <td>RingR</td>\n",
       "    </tr>\n",
       "    <tr>\n",
       "      <th>2</th>\n",
       "      <td>LFP_R_23_STN_MT</td>\n",
       "      <td>[-1.3479618874, -4.6055364487, -6.4028189653, ...</td>\n",
       "      <td>RingR</td>\n",
       "    </tr>\n",
       "    <tr>\n",
       "      <th>3</th>\n",
       "      <td>LFP_R_1A1B_STN_MT</td>\n",
       "      <td>[3.4822348759, 4.2685459769, 7.076799909, 7.63...</td>\n",
       "      <td>SegmIntraR</td>\n",
       "    </tr>\n",
       "    <tr>\n",
       "      <th>4</th>\n",
       "      <td>LFP_R_1B1C_STN_MT</td>\n",
       "      <td>[-3.6433600336, -2.0493900189, -4.0987800378, ...</td>\n",
       "      <td>SegmIntraR</td>\n",
       "    </tr>\n",
       "    <tr>\n",
       "      <th>5</th>\n",
       "      <td>LFP_R_1A1C_STN_MT</td>\n",
       "      <td>[1.2356317301, 2.358933303, 3.5945650331, 3.14...</td>\n",
       "      <td>SegmIntraR</td>\n",
       "    </tr>\n",
       "    <tr>\n",
       "      <th>6</th>\n",
       "      <td>LFP_R_2A2B_STN_MT</td>\n",
       "      <td>[0.5667107034, 0.6800528441, -1.2467635475, -2...</td>\n",
       "      <td>SegmIntraR</td>\n",
       "    </tr>\n",
       "    <tr>\n",
       "      <th>7</th>\n",
       "      <td>LFP_R_2B2C_STN_MT</td>\n",
       "      <td>[-3.3017950304, -2.6186650241, -2.5048100231, ...</td>\n",
       "      <td>SegmIntraR</td>\n",
       "    </tr>\n",
       "    <tr>\n",
       "      <th>8</th>\n",
       "      <td>LFP_R_2A2C_STN_MT</td>\n",
       "      <td>[-4.4932062914, -3.8192253477, -3.145244404, -...</td>\n",
       "      <td>SegmIntraR</td>\n",
       "    </tr>\n",
       "    <tr>\n",
       "      <th>9</th>\n",
       "      <td>LFP_R_1A2A_STN_MT</td>\n",
       "      <td>[-25.8359361757, -27.2962282204, -20.444088626...</td>\n",
       "      <td>SegmInterR</td>\n",
       "    </tr>\n",
       "    <tr>\n",
       "      <th>10</th>\n",
       "      <td>LFP_R_1B2B_STN_MT</td>\n",
       "      <td>[13.662600126, 13.776455127, 16.7366851543, 18...</td>\n",
       "      <td>SegmInterR</td>\n",
       "    </tr>\n",
       "    <tr>\n",
       "      <th>11</th>\n",
       "      <td>LFP_R_1C2C_STN_MT</td>\n",
       "      <td>[-23.58933303, -25.948266333, -26.1729266476, ...</td>\n",
       "      <td>SegmInterR</td>\n",
       "    </tr>\n",
       "  </tbody>\n",
       "</table>\n",
       "</div>"
      ],
      "text/plain": [
       "              channel                                             signal  \\\n",
       "0     LFP_R_12_STN_MT  [1.3601056882, 2.153500673, 1.7001321103, 2.72...   \n",
       "1     LFP_R_01_STN_MT  [-4.554200042, -4.668055043, -7.5144300693, -7...   \n",
       "2     LFP_R_23_STN_MT  [-1.3479618874, -4.6055364487, -6.4028189653, ...   \n",
       "3   LFP_R_1A1B_STN_MT  [3.4822348759, 4.2685459769, 7.076799909, 7.63...   \n",
       "4   LFP_R_1B1C_STN_MT  [-3.6433600336, -2.0493900189, -4.0987800378, ...   \n",
       "5   LFP_R_1A1C_STN_MT  [1.2356317301, 2.358933303, 3.5945650331, 3.14...   \n",
       "6   LFP_R_2A2B_STN_MT  [0.5667107034, 0.6800528441, -1.2467635475, -2...   \n",
       "7   LFP_R_2B2C_STN_MT  [-3.3017950304, -2.6186650241, -2.5048100231, ...   \n",
       "8   LFP_R_2A2C_STN_MT  [-4.4932062914, -3.8192253477, -3.145244404, -...   \n",
       "9   LFP_R_1A2A_STN_MT  [-25.8359361757, -27.2962282204, -20.444088626...   \n",
       "10  LFP_R_1B2B_STN_MT  [13.662600126, 13.776455127, 16.7366851543, 18...   \n",
       "11  LFP_R_1C2C_STN_MT  [-23.58933303, -25.948266333, -26.1729266476, ...   \n",
       "\n",
       "     lfp_group  \n",
       "0        RingR  \n",
       "1        RingR  \n",
       "2        RingR  \n",
       "3   SegmIntraR  \n",
       "4   SegmIntraR  \n",
       "5   SegmIntraR  \n",
       "6   SegmIntraR  \n",
       "7   SegmIntraR  \n",
       "8   SegmIntraR  \n",
       "9   SegmInterR  \n",
       "10  SegmInterR  \n",
       "11  SegmInterR  "
      ]
     },
     "execution_count": 51,
     "metadata": {},
     "output_type": "execute_result"
    }
   ],
   "source": [
    "structured_signals"
   ]
  },
  {
   "cell_type": "code",
   "execution_count": null,
   "metadata": {},
   "outputs": [],
   "source": []
  }
 ],
 "metadata": {
  "kernelspec": {
   "display_name": "bssu",
   "language": "python",
   "name": "python3"
  },
  "language_info": {
   "codemirror_mode": {
    "name": "ipython",
    "version": 3
   },
   "file_extension": ".py",
   "mimetype": "text/x-python",
   "name": "python",
   "nbconvert_exporter": "python",
   "pygments_lexer": "ipython3",
   "version": "3.11.3"
  },
  "orig_nbformat": 4
 },
 "nbformat": 4,
 "nbformat_minor": 2
}
